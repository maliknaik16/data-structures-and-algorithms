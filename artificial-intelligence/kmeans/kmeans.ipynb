{
  "nbformat": 4,
  "nbformat_minor": 0,
  "metadata": {
    "colab": {
      "name": "KMeans HW2.ipynb",
      "provenance": [],
      "collapsed_sections": []
    },
    "kernelspec": {
      "name": "python3",
      "display_name": "Python 3"
    },
    "language_info": {
      "name": "python"
    }
  },
  "cells": [
    {
      "cell_type": "code",
      "source": [
        "import matplotlib.pyplot as plt\n",
        "import numpy as np\n",
        "import pandas as pd\n",
        "from matplotlib import style\n",
        "\n",
        "# Initialize the data points.\n",
        "X = np.array([\n",
        "    [2, 4],\n",
        "    [1.7, 2.8],\n",
        "    [7, 8],\n",
        "    [8.6, 8],\n",
        "    [3.4, 1.5],\n",
        "    [9, 11]\n",
        "])\n"
      ],
      "metadata": {
        "id": "3LVLWjKnoyjP"
      },
      "execution_count": 7,
      "outputs": []
    },
    {
      "cell_type": "code",
      "source": [
        "def plot_points(X):\n",
        "    \"\"\"\n",
        "    Plots points without clusters.\n",
        "    \"\"\"\n",
        "\n",
        "    plt.scatter(X[:,0], X[:,1], s=150)\n",
        "    plt.title('Scatter plot before clustering')\n",
        "    plt.xlabel('X')\n",
        "    plt.ylabel('Y')\n",
        "    plt.show()"
      ],
      "metadata": {
        "id": "5gd8ZQRLsUb1"
      },
      "execution_count": 8,
      "outputs": []
    },
    {
      "cell_type": "code",
      "source": [
        "class KMeans:\n",
        "\n",
        "    def __init__(self, k):\n",
        "        \"\"\"\n",
        "        Initialize the object.\n",
        "        \"\"\"\n",
        "\n",
        "        self.k = k\n",
        "\n",
        "    def init_centers(self, X):\n",
        "        \"\"\"\n",
        "        Initialize the random centers.\n",
        "        \"\"\"\n",
        "\n",
        "        # Get the dimension of the dataset.\n",
        "        m, n = X.shape\n",
        "\n",
        "        # Create empty centers.\n",
        "        centers = np.empty([self.k, n])\n",
        "\n",
        "        for i in range(self.k):\n",
        "\n",
        "          # Pick the random row from the dataset.\n",
        "          idx = np.random.randint(m)\n",
        "\n",
        "          # Set the ith center to the random row.\n",
        "          centers[i] = X[idx]\n",
        "\n",
        "        return centers\n",
        "\n",
        "    def euclidean_distance(self, x, y):\n",
        "        \"\"\"\n",
        "        Compute the Euclidean Distance.\n",
        "        \"\"\"\n",
        "        \n",
        "        return np.sqrt((x[0] - y[0])**2 + (x[1] - y[1])**2)\n",
        "\n",
        "    def fit(self, X):\n",
        "        \"\"\"\n",
        "        Fit the data to create clusters until there is no update to the \n",
        "        centers.\n",
        "        \"\"\"\n",
        "\n",
        "        # Initialize the clusters.\n",
        "        clusters = np.zeros(X.shape[0])\n",
        "\n",
        "        # Randomly assign centroids.\n",
        "        centers = self.init_centers(X)\n",
        "\n",
        "        # Repeat until no change in centroids.\n",
        "        while True:\n",
        "\n",
        "            for i, point in enumerate(X):\n",
        "\n",
        "                # Minimum distance.\n",
        "                min_dist = float('inf')\n",
        "\n",
        "                for j, center in enumerate(centers):\n",
        "\n",
        "                    # Compute the euclidean distance.\n",
        "                    distance = self.euclidean_distance(center, point)\n",
        "\n",
        "                    # Select the point with the minimum distance.\n",
        "                    if min_dist > distance:\n",
        "                        min_dist = distance\n",
        "                        clusters[i] = j\n",
        "\n",
        "            # Update centroids by the mean of the point in the cluster.\n",
        "            new_centers = pd.DataFrame(X).groupby(by=clusters).mean().values\n",
        "\n",
        "            # If there is no change in the centroids then break.\n",
        "            if np.count_nonzero(centers - new_centers) == 0:\n",
        "                break\n",
        "            else:\n",
        "                centers = new_centers\n",
        "\n",
        "        return centers, clusters"
      ],
      "metadata": {
        "id": "8_1qArHTo9Nc"
      },
      "execution_count": 9,
      "outputs": []
    },
    {
      "cell_type": "code",
      "source": [
        "kmeans = KMeans(2)\n",
        "centers, clusters = kmeans.fit(X)"
      ],
      "metadata": {
        "id": "9ymeLEDh28KF"
      },
      "execution_count": 10,
      "outputs": []
    },
    {
      "cell_type": "code",
      "source": [
        "def plot_clusters(X, cst):\n",
        "    clusters = {\n",
        "        '0': [],\n",
        "        '1': []\n",
        "    }\n",
        "\n",
        "    for i in range(len(cst)):\n",
        "\n",
        "      clusters[str(int(cst[i]))].append(X[i])\n",
        "\n",
        "    c1 = np.array(clusters['0']).reshape(-1, 2)\n",
        "    c2 = np.array(clusters['1']).reshape(-1, 2)\n",
        "\n",
        "    plt.scatter(c1[:, 0], c1[:, 1], s=150)\n",
        "    plt.scatter(c2[:, 0], c2[:, 1], s=150)\n",
        "    plt.title('Scatter plot after clustering')\n",
        "    plt.xlabel('X')\n",
        "    plt.ylabel('Y')\n",
        "    plt.show()\n"
      ],
      "metadata": {
        "id": "bbwG6DdRpB5F"
      },
      "execution_count": 11,
      "outputs": []
    },
    {
      "cell_type": "code",
      "source": [
        "# Plot the datapoints.\n",
        "plot_points(X)\n",
        "plot_clusters(X, clusters)"
      ],
      "metadata": {
        "colab": {
          "base_uri": "https://localhost:8080/",
          "height": 573
        },
        "id": "bGXRyGAt2TIS",
        "outputId": "0745e260-3b65-4e94-b1fd-d888bd292cda"
      },
      "execution_count": 12,
      "outputs": [
        {
          "output_type": "display_data",
          "data": {
            "text/plain": [
              "<Figure size 432x288 with 1 Axes>"
            ],
            "image/png": "[encoded data removed]"
          },
          "metadata": {
            "needs_background": "light"
          }
        },
        {
          "output_type": "display_data",
          "data": {
            "text/plain": [
              "<Figure size 432x288 with 1 Axes>"
            ],
            "image/png": "[encoded data removed]"
          },
          "metadata": {
            "needs_background": "light"
          }
        }
      ]
    },
    {
      "cell_type": "code",
      "source": [
        ""
      ],
      "metadata": {
        "id": "2b2c2cYPqKye"
      },
      "execution_count": 12,
      "outputs": []
    }
  ]
}